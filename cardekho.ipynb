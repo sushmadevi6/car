{
 "cells": [
  {
   "cell_type": "code",
   "execution_count": 1,
   "metadata": {
    "_cell_guid": "b1076dfc-b9ad-4769-8c92-a6c4dae69d19",
    "_uuid": "8f2839f25d086af736a60e9eeb907d3b93b6e0e5",
    "execution": {
     "iopub.execute_input": "2020-10-12T09:09:38.272560Z",
     "iopub.status.busy": "2020-10-12T09:09:38.271538Z",
     "iopub.status.idle": "2020-10-12T09:09:39.261721Z",
     "shell.execute_reply": "2020-10-12T09:09:39.260179Z"
    },
    "papermill": {
     "duration": 1.012979,
     "end_time": "2020-10-12T09:09:39.261867",
     "exception": false,
     "start_time": "2020-10-12T09:09:38.248888",
     "status": "completed"
    },
    "tags": []
   },
   "outputs": [
    {
     "name": "stdout",
     "output_type": "stream",
     "text": [
      "/kaggle/input/vehicle-dataset-from-cardekho/CAR DETAILS FROM CAR DEKHO.csv\n",
      "/kaggle/input/vehicle-dataset-from-cardekho/car data.csv\n"
     ]
    }
   ],
   "source": [
    "\n",
    "##\n",
    "import numpy as np # linear algebra\n",
    "import pandas as pd # data processing, CSV file I/O (e.g. pd.read_csv)\n",
    "import seaborn as sns\n",
    "import matplotlib.pyplot as plt\n",
    "%matplotlib inline\n",
    "\n",
    "##"
   ]
  },
  {
   "cell_type": "code",
   "execution_count": 2,
   "metadata": {
    "_cell_guid": "79c7e3d0-c299-4dcb-8224-4455121ee9b0",
    "_uuid": "d629ff2d2480ee46fbb7e2d37f6b5fab8052498a",
    "execution": {
     "iopub.execute_input": "2020-10-12T09:09:39.303801Z",
     "iopub.status.busy": "2020-10-12T09:09:39.303113Z",
     "iopub.status.idle": "2020-10-12T09:09:39.335603Z",
     "shell.execute_reply": "2020-10-12T09:09:39.335016Z"
    },
    "papermill": {
     "duration": 0.057645,
     "end_time": "2020-10-12T09:09:39.335719",
     "exception": false,
     "start_time": "2020-10-12T09:09:39.278074",
     "status": "completed"
    },
    "tags": []
   },
   "outputs": [],
   "source": [
    "cars_filepath = \"C:\\Windows\\System32\\cmd.exe\"\n",
    "cars = pd.read_csv(cars_filepath)"
   ]
  },
  {
   "cell_type": "code",
   "execution_count": 3,
   "metadata": {
    "execution": {
     "iopub.execute_input": "2020-10-12T09:09:39.404817Z",
     "iopub.status.busy": "2020-10-12T09:09:39.403862Z",
     "iopub.status.idle": "2020-10-12T09:09:39.408291Z",
     "shell.execute_reply": "2020-10-12T09:09:39.408989Z"
    },
    "papermill": {
     "duration": 0.027136,
     "end_time": "2020-10-12T09:09:39.409146",
     "exception": false,
     "start_time": "2020-10-12T09:09:39.382010",
     "status": "completed"
    },
    "tags": []
   },
   "outputs": [
    {
     "data": {
      "text/plain": [
       "Index(['name', 'year', 'selling_price', 'km_driven', 'fuel', 'seller_type',\n",
       "       'transmission', 'owner'],\n",
       "      dtype='object')"
      ]
     },
     "execution_count": 3,
     "metadata": {},
     "output_type": "execute_result"
    }
   ],
   "source": [
    "cars.columns"
   ]
  },
  {
   "cell_type": "code",
   "execution_count": 4,
   "metadata": {
    "execution": {
     "iopub.execute_input": "2020-10-12T09:09:39.445969Z",
     "iopub.status.busy": "2020-10-12T09:09:39.444898Z",
     "iopub.status.idle": "2020-10-12T09:09:39.449195Z",
     "shell.execute_reply": "2020-10-12T09:09:39.448651Z"
    },
    "papermill": {
     "duration": 0.024592,
     "end_time": "2020-10-12T09:09:39.449310",
     "exception": false,
     "start_time": "2020-10-12T09:09:39.424718",
     "status": "completed"
    },
    "tags": []
   },
   "outputs": [
    {
     "data": {
      "text/plain": [
       "(4340, 8)"
      ]
     },
     "execution_count": 4,
     "metadata": {},
     "output_type": "execute_result"
    }
   ],
   "source": [
    "cars.shape"
   ]
  },
  {
   "cell_type": "code",
   "execution_count": 5,
   "metadata": {
    "execution": {
     "iopub.execute_input": "2020-10-12T09:09:39.503775Z",
     "iopub.status.busy": "2020-10-12T09:09:39.502997Z",
     "iopub.status.idle": "2020-10-12T09:09:39.507424Z",
     "shell.execute_reply": "2020-10-12T09:09:39.506301Z"
    },
    "papermill": {
     "duration": 0.041459,
     "end_time": "2020-10-12T09:09:39.507557",
     "exception": false,
     "start_time": "2020-10-12T09:09:39.466098",
     "status": "completed"
    },
    "tags": []
   },
   "outputs": [
    {
     "name": "stdout",
     "output_type": "stream",
     "text": [
      "<class 'pandas.core.frame.DataFrame'>\n",
      "RangeIndex: 4340 entries, 0 to 4339\n",
      "Data columns (total 8 columns):\n",
      " #   Column         Non-Null Count  Dtype \n",
      "---  ------         --------------  ----- \n",
      " 0   name           4340 non-null   object\n",
      " 1   year           4340 non-null   int64 \n",
      " 2   selling_price  4340 non-null   int64 \n",
      " 3   km_driven      4340 non-null   int64 \n",
      " 4   fuel           4340 non-null   object\n",
      " 5   seller_type    4340 non-null   object\n",
      " 6   transmission   4340 non-null   object\n",
      " 7   owner          4340 non-null   object\n",
      "dtypes: int64(3), object(5)\n",
      "memory usage: 271.4+ KB\n"
     ]
    }
   ],
   "source": [
    "cars.info()"
   ]
  },
  {
   "cell_type": "code",
   "execution_count": 6,
   "metadata": {
    "execution": {
     "iopub.execute_input": "2020-10-12T09:09:39.551445Z",
     "iopub.status.busy": "2020-10-12T09:09:39.550752Z",
     "iopub.status.idle": "2020-10-12T09:09:39.563546Z",
     "shell.execute_reply": "2020-10-12T09:09:39.562882Z"
    },
    "papermill": {
     "duration": 0.039272,
     "end_time": "2020-10-12T09:09:39.563663",
     "exception": false,
     "start_time": "2020-10-12T09:09:39.524391",
     "status": "completed"
    },
    "tags": []
   },
   "outputs": [
    {
     "data": {
      "text/html": [
       "<div>\n",
       "<style scoped>\n",
       "    .dataframe tbody tr th:only-of-type {\n",
       "        vertical-align: middle;\n",
       "    }\n",
       "\n",
       "    .dataframe tbody tr th {\n",
       "        vertical-align: top;\n",
       "    }\n",
       "\n",
       "    .dataframe thead th {\n",
       "        text-align: right;\n",
       "    }\n",
       "</style>\n",
       "<table border=\"1\" class=\"dataframe\">\n",
       "  <thead>\n",
       "    <tr style=\"text-align: right;\">\n",
       "      <th></th>\n",
       "      <th>name</th>\n",
       "      <th>year</th>\n",
       "      <th>selling_price</th>\n",
       "      <th>km_driven</th>\n",
       "      <th>fuel</th>\n",
       "      <th>seller_type</th>\n",
       "      <th>transmission</th>\n",
       "      <th>owner</th>\n",
       "    </tr>\n",
       "  </thead>\n",
       "  <tbody>\n",
       "    <tr>\n",
       "      <th>0</th>\n",
       "      <td>Maruti 800 AC</td>\n",
       "      <td>2007</td>\n",
       "      <td>60000</td>\n",
       "      <td>70000</td>\n",
       "      <td>Petrol</td>\n",
       "      <td>Individual</td>\n",
       "      <td>Manual</td>\n",
       "      <td>First Owner</td>\n",
       "    </tr>\n",
       "    <tr>\n",
       "      <th>1</th>\n",
       "      <td>Maruti Wagon R LXI Minor</td>\n",
       "      <td>2007</td>\n",
       "      <td>135000</td>\n",
       "      <td>50000</td>\n",
       "      <td>Petrol</td>\n",
       "      <td>Individual</td>\n",
       "      <td>Manual</td>\n",
       "      <td>First Owner</td>\n",
       "    </tr>\n",
       "    <tr>\n",
       "      <th>2</th>\n",
       "      <td>Hyundai Verna 1.6 SX</td>\n",
       "      <td>2012</td>\n",
       "      <td>600000</td>\n",
       "      <td>100000</td>\n",
       "      <td>Diesel</td>\n",
       "      <td>Individual</td>\n",
       "      <td>Manual</td>\n",
       "      <td>First Owner</td>\n",
       "    </tr>\n",
       "    <tr>\n",
       "      <th>3</th>\n",
       "      <td>Datsun RediGO T Option</td>\n",
       "      <td>2017</td>\n",
       "      <td>250000</td>\n",
       "      <td>46000</td>\n",
       "      <td>Petrol</td>\n",
       "      <td>Individual</td>\n",
       "      <td>Manual</td>\n",
       "      <td>First Owner</td>\n",
       "    </tr>\n",
       "    <tr>\n",
       "      <th>4</th>\n",
       "      <td>Honda Amaze VX i-DTEC</td>\n",
       "      <td>2014</td>\n",
       "      <td>450000</td>\n",
       "      <td>141000</td>\n",
       "      <td>Diesel</td>\n",
       "      <td>Individual</td>\n",
       "      <td>Manual</td>\n",
       "      <td>Second Owner</td>\n",
       "    </tr>\n",
       "    <tr>\n",
       "      <th>5</th>\n",
       "      <td>Maruti Alto LX BSIII</td>\n",
       "      <td>2007</td>\n",
       "      <td>140000</td>\n",
       "      <td>125000</td>\n",
       "      <td>Petrol</td>\n",
       "      <td>Individual</td>\n",
       "      <td>Manual</td>\n",
       "      <td>First Owner</td>\n",
       "    </tr>\n",
       "    <tr>\n",
       "      <th>6</th>\n",
       "      <td>Hyundai Xcent 1.2 Kappa S</td>\n",
       "      <td>2016</td>\n",
       "      <td>550000</td>\n",
       "      <td>25000</td>\n",
       "      <td>Petrol</td>\n",
       "      <td>Individual</td>\n",
       "      <td>Manual</td>\n",
       "      <td>First Owner</td>\n",
       "    </tr>\n",
       "    <tr>\n",
       "      <th>7</th>\n",
       "      <td>Tata Indigo Grand Petrol</td>\n",
       "      <td>2014</td>\n",
       "      <td>240000</td>\n",
       "      <td>60000</td>\n",
       "      <td>Petrol</td>\n",
       "      <td>Individual</td>\n",
       "      <td>Manual</td>\n",
       "      <td>Second Owner</td>\n",
       "    </tr>\n",
       "    <tr>\n",
       "      <th>8</th>\n",
       "      <td>Hyundai Creta 1.6 VTVT S</td>\n",
       "      <td>2015</td>\n",
       "      <td>850000</td>\n",
       "      <td>25000</td>\n",
       "      <td>Petrol</td>\n",
       "      <td>Individual</td>\n",
       "      <td>Manual</td>\n",
       "      <td>First Owner</td>\n",
       "    </tr>\n",
       "    <tr>\n",
       "      <th>9</th>\n",
       "      <td>Maruti Celerio Green VXI</td>\n",
       "      <td>2017</td>\n",
       "      <td>365000</td>\n",
       "      <td>78000</td>\n",
       "      <td>CNG</td>\n",
       "      <td>Individual</td>\n",
       "      <td>Manual</td>\n",
       "      <td>First Owner</td>\n",
       "    </tr>\n",
       "  </tbody>\n",
       "</table>\n",
       "</div>"
      ],
      "text/plain": [
       "                        name  year  selling_price  km_driven    fuel  \\\n",
       "0              Maruti 800 AC  2007          60000      70000  Petrol   \n",
       "1   Maruti Wagon R LXI Minor  2007         135000      50000  Petrol   \n",
       "2       Hyundai Verna 1.6 SX  2012         600000     100000  Diesel   \n",
       "3     Datsun RediGO T Option  2017         250000      46000  Petrol   \n",
       "4      Honda Amaze VX i-DTEC  2014         450000     141000  Diesel   \n",
       "5       Maruti Alto LX BSIII  2007         140000     125000  Petrol   \n",
       "6  Hyundai Xcent 1.2 Kappa S  2016         550000      25000  Petrol   \n",
       "7   Tata Indigo Grand Petrol  2014         240000      60000  Petrol   \n",
       "8   Hyundai Creta 1.6 VTVT S  2015         850000      25000  Petrol   \n",
       "9   Maruti Celerio Green VXI  2017         365000      78000     CNG   \n",
       "\n",
       "  seller_type transmission         owner  \n",
       "0  Individual       Manual   First Owner  \n",
       "1  Individual       Manual   First Owner  \n",
       "2  Individual       Manual   First Owner  \n",
       "3  Individual       Manual   First Owner  \n",
       "4  Individual       Manual  Second Owner  \n",
       "5  Individual       Manual   First Owner  \n",
       "6  Individual       Manual   First Owner  \n",
       "7  Individual       Manual  Second Owner  \n",
       "8  Individual       Manual   First Owner  \n",
       "9  Individual       Manual   First Owner  "
      ]
     },
     "execution_count": 6,
     "metadata": {},
     "output_type": "execute_result"
    }
   ],
   "source": [
    "cars.head(10)"
   ]
  },
  {
   "cell_type": "code",
   "execution_count": 7,
   "metadata": {
    "execution": {
     "iopub.execute_input": "2020-10-12T09:09:39.607919Z",
     "iopub.status.busy": "2020-10-12T09:09:39.607011Z",
     "iopub.status.idle": "2020-10-12T09:09:39.626562Z",
     "shell.execute_reply": "2020-10-12T09:09:39.626044Z"
    },
    "papermill": {
     "duration": 0.046188,
     "end_time": "2020-10-12T09:09:39.626688",
     "exception": false,
     "start_time": "2020-10-12T09:09:39.580500",
     "status": "completed"
    },
    "tags": []
   },
   "outputs": [
    {
     "data": {
      "text/html": [
       "<div>\n",
       "<style scoped>\n",
       "    .dataframe tbody tr th:only-of-type {\n",
       "        vertical-align: middle;\n",
       "    }\n",
       "\n",
       "    .dataframe tbody tr th {\n",
       "        vertical-align: top;\n",
       "    }\n",
       "\n",
       "    .dataframe thead th {\n",
       "        text-align: right;\n",
       "    }\n",
       "</style>\n",
       "<table border=\"1\" class=\"dataframe\">\n",
       "  <thead>\n",
       "    <tr style=\"text-align: right;\">\n",
       "      <th></th>\n",
       "      <th>year</th>\n",
       "      <th>selling_price</th>\n",
       "      <th>km_driven</th>\n",
       "    </tr>\n",
       "  </thead>\n",
       "  <tbody>\n",
       "    <tr>\n",
       "      <th>count</th>\n",
       "      <td>4340.000000</td>\n",
       "      <td>4.340000e+03</td>\n",
       "      <td>4340.000000</td>\n",
       "    </tr>\n",
       "    <tr>\n",
       "      <th>mean</th>\n",
       "      <td>2013.090783</td>\n",
       "      <td>5.041273e+05</td>\n",
       "      <td>66215.777419</td>\n",
       "    </tr>\n",
       "    <tr>\n",
       "      <th>std</th>\n",
       "      <td>4.215344</td>\n",
       "      <td>5.785487e+05</td>\n",
       "      <td>46644.102194</td>\n",
       "    </tr>\n",
       "    <tr>\n",
       "      <th>min</th>\n",
       "      <td>1992.000000</td>\n",
       "      <td>2.000000e+04</td>\n",
       "      <td>1.000000</td>\n",
       "    </tr>\n",
       "    <tr>\n",
       "      <th>25%</th>\n",
       "      <td>2011.000000</td>\n",
       "      <td>2.087498e+05</td>\n",
       "      <td>35000.000000</td>\n",
       "    </tr>\n",
       "    <tr>\n",
       "      <th>50%</th>\n",
       "      <td>2014.000000</td>\n",
       "      <td>3.500000e+05</td>\n",
       "      <td>60000.000000</td>\n",
       "    </tr>\n",
       "    <tr>\n",
       "      <th>75%</th>\n",
       "      <td>2016.000000</td>\n",
       "      <td>6.000000e+05</td>\n",
       "      <td>90000.000000</td>\n",
       "    </tr>\n",
       "    <tr>\n",
       "      <th>max</th>\n",
       "      <td>2020.000000</td>\n",
       "      <td>8.900000e+06</td>\n",
       "      <td>806599.000000</td>\n",
       "    </tr>\n",
       "  </tbody>\n",
       "</table>\n",
       "</div>"
      ],
      "text/plain": [
       "              year  selling_price      km_driven\n",
       "count  4340.000000   4.340000e+03    4340.000000\n",
       "mean   2013.090783   5.041273e+05   66215.777419\n",
       "std       4.215344   5.785487e+05   46644.102194\n",
       "min    1992.000000   2.000000e+04       1.000000\n",
       "25%    2011.000000   2.087498e+05   35000.000000\n",
       "50%    2014.000000   3.500000e+05   60000.000000\n",
       "75%    2016.000000   6.000000e+05   90000.000000\n",
       "max    2020.000000   8.900000e+06  806599.000000"
      ]
     },
     "execution_count": 7,
     "metadata": {},
     "output_type": "execute_result"
    }
   ],
   "source": [
    "cars.describe()"
   ]
  },
  {
   "cell_type": "code",
   "execution_count": 8,
   "metadata": {
    "execution": {
     "iopub.execute_input": "2020-10-12T09:09:39.670608Z",
     "iopub.status.busy": "2020-10-12T09:09:39.669857Z",
     "iopub.status.idle": "2020-10-12T09:09:39.696081Z",
     "shell.execute_reply": "2020-10-12T09:09:39.695402Z"
    },
    "papermill": {
     "duration": 0.050682,
     "end_time": "2020-10-12T09:09:39.696202",
     "exception": false,
     "start_time": "2020-10-12T09:09:39.645520",
     "status": "completed"
    },
    "tags": []
   },
   "outputs": [
    {
     "data": {
      "text/plain": [
       "count                       4340\n",
       "unique                      1491\n",
       "top       Maruti Swift Dzire VDI\n",
       "freq                          69\n",
       "Name: name, dtype: object"
      ]
     },
     "execution_count": 8,
     "metadata": {},
     "output_type": "execute_result"
    }
   ],
   "source": [
    "cars.name.describe()"
   ]
  },
  {
   "cell_type": "markdown",
   "metadata": {
    "papermill": {
     "duration": 0.01726,
     "end_time": "2020-10-12T09:09:39.731520",
     "exception": false,
     "start_time": "2020-10-12T09:09:39.714260",
     "status": "completed"
    },
    "tags": []
   },
   "source": [
    "**Data Visualization**\n",
    "* Plotting graphs to check for relations between different independent variables and the dependent variable\n",
    "* Making use of Seaborn library to plot bar graphs and regression scatter plots"
   ]
  },
  {
   "cell_type": "code",
   "execution_count": 9,
   "metadata": {
    "execution": {
     "iopub.execute_input": "2020-10-12T09:09:39.772827Z",
     "iopub.status.busy": "2020-10-12T09:09:39.772083Z",
     "iopub.status.idle": "2020-10-12T09:09:40.127925Z",
     "shell.execute_reply": "2020-10-12T09:09:40.127209Z"
    },
    "papermill": {
     "duration": 0.378917,
     "end_time": "2020-10-12T09:09:40.128148",
     "exception": false,
     "start_time": "2020-10-12T09:09:39.749231",
     "status": "completed"
    },
    "tags": []
   },
   "outputs": [
    {
     "data": {
      "text/plain": [
       "<matplotlib.axes._subplots.AxesSubplot at 0x7f7ccd8ac350>"
      ]
     },
     "execution_count": 9,
     "metadata": {},
     "output_type": "execute_result"
    },
    {
     "data": {
      "image/png": "[encoded data removed]",
      "text/plain": [
       "<Figure size 720x720 with 1 Axes>"
      ]
     },
     "metadata": {
      "needs_background": "light"
     },
     "output_type": "display_data"
    }
   ],
   "source": [
    "plt.figure(figsize = (10,10))\n",
    "sns.barplot(x = 'owner', y = 'selling_price', data = cars)"
   ]
  },
  {
   "cell_type": "code",
   "execution_count": 10,
   "metadata": {
    "execution": {
     "iopub.execute_input": "2020-10-12T09:09:40.173752Z",
     "iopub.status.busy": "2020-10-12T09:09:40.173080Z",
     "iopub.status.idle": "2020-10-12T09:09:40.456689Z",
     "shell.execute_reply": "2020-10-12T09:09:40.456164Z"
    },
    "papermill": {
     "duration": 0.309727,
     "end_time": "2020-10-12T09:09:40.456897",
     "exception": false,
     "start_time": "2020-10-12T09:09:40.147170",
     "status": "completed"
    },
    "tags": []
   },
   "outputs": [
    {
     "data": {
      "text/plain": [
       "<matplotlib.axes._subplots.AxesSubplot at 0x7f7ccc681b50>"
      ]
     },
     "execution_count": 10,
     "metadata": {},
     "output_type": "execute_result"
    },
    {
     "data": {
      "image/png": "[encoded data removed]",
      "text/plain": [
       "<Figure size 720x720 with 1 Axes>"
      ]
     },
     "metadata": {
      "needs_background": "light"
     },
     "output_type": "display_data"
    }
   ],
   "source": [
    "plt.figure(figsize = (10,10))\n",
    "sns.barplot(x = 'fuel', y = 'selling_price', data = cars)"
   ]
  },
  {
   "cell_type": "code",
   "execution_count": 11,
   "metadata": {
    "execution": {
     "iopub.execute_input": "2020-10-12T09:09:40.509418Z",
     "iopub.status.busy": "2020-10-12T09:09:40.508668Z",
     "iopub.status.idle": "2020-10-12T09:09:41.028120Z",
     "shell.execute_reply": "2020-10-12T09:09:41.027299Z"
    },
    "papermill": {
     "duration": 0.550259,
     "end_time": "2020-10-12T09:09:41.028251",
     "exception": false,
     "start_time": "2020-10-12T09:09:40.477992",
     "status": "completed"
    },
    "tags": []
   },
   "outputs": [
    {
     "data": {
      "text/plain": [
       "<matplotlib.axes._subplots.AxesSubplot at 0x7f7ccc5e48d0>"
      ]
     },
     "execution_count": 11,
     "metadata": {},
     "output_type": "execute_result"
    },
    {
     "data": {
      "image/png": "[encoded data removed]",
      "text/plain": [
       "<Figure size 720x360 with 1 Axes>"
      ]
     },
     "metadata": {
      "needs_background": "light"
     },
     "output_type": "display_data"
    }
   ],
   "source": [
    "plt.figure(figsize = (10,5))\n",
    "plt.ylim(0,700000)\n",
    "plt.xlim(0,800000)\n",
    "sns.regplot(x = 'km_driven', y = 'selling_price', data = cars, color = 'green')"
   ]
  },
  {
   "cell_type": "markdown",
   "metadata": {
    "papermill": {
     "duration": 0.023217,
     "end_time": "2020-10-12T09:09:41.074211",
     "exception": false,
     "start_time": "2020-10-12T09:09:41.050994",
     "status": "completed"
    },
    "tags": []
   },
   "source": [
    "**Model Selection and Validation**\n",
    "* Defining training and testing data\n",
    "* Importing different models from sklearn libraries implementing their functions\n",
    "* Fitting the training data into the model \n",
    "* Extracting the predicted value from the implemented model\n",
    "* Calculating the Mean Absloute Error to check how accurate the model is"
   ]
  },
  {
   "cell_type": "code",
   "execution_count": 12,
   "metadata": {
    "execution": {
     "iopub.execute_input": "2020-10-12T09:09:41.124372Z",
     "iopub.status.busy": "2020-10-12T09:09:41.123515Z",
     "iopub.status.idle": "2020-10-12T09:09:41.126374Z",
     "shell.execute_reply": "2020-10-12T09:09:41.126812Z"
    },
    "papermill": {
     "duration": 0.03083,
     "end_time": "2020-10-12T09:09:41.127076",
     "exception": false,
     "start_time": "2020-10-12T09:09:41.096246",
     "status": "completed"
    },
    "tags": []
   },
   "outputs": [],
   "source": [
    "cars_copy = cars.copy()"
   ]
  },
  {
   "cell_type": "code",
   "execution_count": 13,
   "metadata": {
    "execution": {
     "iopub.execute_input": "2020-10-12T09:09:41.177997Z",
     "iopub.status.busy": "2020-10-12T09:09:41.177126Z",
     "iopub.status.idle": "2020-10-12T09:09:41.180610Z",
     "shell.execute_reply": "2020-10-12T09:09:41.181142Z"
    },
    "papermill": {
     "duration": 0.031996,
     "end_time": "2020-10-12T09:09:41.181292",
     "exception": false,
     "start_time": "2020-10-12T09:09:41.149296",
     "status": "completed"
    },
    "tags": []
   },
   "outputs": [
    {
     "name": "stdout",
     "output_type": "stream",
     "text": [
      "['name', 'fuel', 'seller_type', 'transmission', 'owner']\n"
     ]
    }
   ],
   "source": [
    "lst = (cars_copy.dtypes == 'object')\n",
    "object_col = list(lst[lst].index)\n",
    "print(object_col)"
   ]
  },
  {
   "cell_type": "code",
   "execution_count": 14,
   "metadata": {
    "execution": {
     "iopub.execute_input": "2020-10-12T09:09:41.232654Z",
     "iopub.status.busy": "2020-10-12T09:09:41.231907Z",
     "iopub.status.idle": "2020-10-12T09:09:41.307591Z",
     "shell.execute_reply": "2020-10-12T09:09:41.307047Z"
    },
    "papermill": {
     "duration": 0.103871,
     "end_time": "2020-10-12T09:09:41.307716",
     "exception": false,
     "start_time": "2020-10-12T09:09:41.203845",
     "status": "completed"
    },
    "tags": []
   },
   "outputs": [],
   "source": [
    "from sklearn.preprocessing import LabelEncoder\n",
    "\n",
    "encoder = LabelEncoder()\n",
    "for col in object_col:\n",
    "    cars_copy[col] = encoder.fit_transform(cars_copy[col])"
   ]
  },
  {
   "cell_type": "code",
   "execution_count": 15,
   "metadata": {
    "execution": {
     "iopub.execute_input": "2020-10-12T09:09:41.362753Z",
     "iopub.status.busy": "2020-10-12T09:09:41.361433Z",
     "iopub.status.idle": "2020-10-12T09:09:41.366411Z",
     "shell.execute_reply": "2020-10-12T09:09:41.365725Z"
    },
    "papermill": {
     "duration": 0.033958,
     "end_time": "2020-10-12T09:09:41.366532",
     "exception": false,
     "start_time": "2020-10-12T09:09:41.332574",
     "status": "completed"
    },
    "tags": []
   },
   "outputs": [],
   "source": [
    "attributes = ['name','year', 'km_driven', 'fuel', 'seller_type',\n",
    "       'transmission', 'owner']\n",
    "X = cars_copy[attributes]\n",
    "y = cars_copy.selling_price"
   ]
  },
  {
   "cell_type": "code",
   "execution_count": 16,
   "metadata": {
    "execution": {
     "iopub.execute_input": "2020-10-12T09:09:41.420122Z",
     "iopub.status.busy": "2020-10-12T09:09:41.419247Z",
     "iopub.status.idle": "2020-10-12T09:09:41.480716Z",
     "shell.execute_reply": "2020-10-12T09:09:41.480111Z"
    },
    "papermill": {
     "duration": 0.090206,
     "end_time": "2020-10-12T09:09:41.480835",
     "exception": false,
     "start_time": "2020-10-12T09:09:41.390629",
     "status": "completed"
    },
    "tags": []
   },
   "outputs": [],
   "source": [
    "from sklearn.model_selection import train_test_split\n",
    "X_train, X_valid, y_train, y_valid = train_test_split(X, y, test_size = 0.6, random_state = 0)"
   ]
  },
  {
   "cell_type": "code",
   "execution_count": 17,
   "metadata": {
    "execution": {
     "iopub.execute_input": "2020-10-12T09:09:41.534036Z",
     "iopub.status.busy": "2020-10-12T09:09:41.533342Z",
     "iopub.status.idle": "2020-10-12T09:09:41.711170Z",
     "shell.execute_reply": "2020-10-12T09:09:41.711750Z"
    },
    "papermill": {
     "duration": 0.207055,
     "end_time": "2020-10-12T09:09:41.711913",
     "exception": false,
     "start_time": "2020-10-12T09:09:41.504858",
     "status": "completed"
    },
    "tags": []
   },
   "outputs": [
    {
     "name": "stdout",
     "output_type": "stream",
     "text": [
      "-71630869.59988928\n",
      "[-6.00776026e+01  3.63947020e+04 -6.56700224e-01 -9.93829283e+04\n",
      " -3.59802631e+04 -8.44508278e+05 -2.26649579e+04]\n"
     ]
    }
   ],
   "source": [
    "from sklearn.linear_model import LinearRegression\n",
    "\n",
    "regressor = LinearRegression()\n",
    "regressor.fit(X_train,y_train)\n",
    "\n",
    "print(regressor.intercept_)\n",
    "print(regressor.coef_)"
   ]
  },
  {
   "cell_type": "code",
   "execution_count": 18,
   "metadata": {
    "execution": {
     "iopub.execute_input": "2020-10-12T09:09:41.767903Z",
     "iopub.status.busy": "2020-10-12T09:09:41.767255Z",
     "iopub.status.idle": "2020-10-12T09:09:41.779128Z",
     "shell.execute_reply": "2020-10-12T09:09:41.778498Z"
    },
    "papermill": {
     "duration": 0.043116,
     "end_time": "2020-10-12T09:09:41.779267",
     "exception": false,
     "start_time": "2020-10-12T09:09:41.736151",
     "status": "completed"
    },
    "tags": []
   },
   "outputs": [
    {
     "name": "stdout",
     "output_type": "stream",
     "text": [
      "[1418211.91519161 1475445.81355424  165184.46647356 ...  512633.08892478\n",
      "  492126.94509409  711928.31774773]\n",
      "2089     465000\n",
      "1077    1580000\n",
      "1495     150000\n",
      "555     4950000\n",
      "2615     125000\n",
      "         ...   \n",
      "4022     200000\n",
      "2053     150000\n",
      "55       401000\n",
      "3462     300000\n",
      "1677     500000\n",
      "Name: selling_price, Length: 2604, dtype: int64\n"
     ]
    }
   ],
   "source": [
    "y_pred = regressor.predict(X_valid)\n",
    "print(y_pred)\n",
    "print(y_valid)"
   ]
  },
  {
   "cell_type": "code",
   "execution_count": 19,
   "metadata": {
    "execution": {
     "iopub.execute_input": "2020-10-12T09:09:41.835078Z",
     "iopub.status.busy": "2020-10-12T09:09:41.834177Z",
     "iopub.status.idle": "2020-10-12T09:09:41.839350Z",
     "shell.execute_reply": "2020-10-12T09:09:41.838615Z"
    },
    "papermill": {
     "duration": 0.035979,
     "end_time": "2020-10-12T09:09:41.839496",
     "exception": false,
     "start_time": "2020-10-12T09:09:41.803517",
     "status": "completed"
    },
    "tags": []
   },
   "outputs": [
    {
     "name": "stdout",
     "output_type": "stream",
     "text": [
      "232703.11594191624\n"
     ]
    }
   ],
   "source": [
    "from sklearn.metrics import mean_absolute_error\n",
    "print(mean_absolute_error(y_valid, y_pred))"
   ]
  },
  {
   "cell_type": "code",
   "execution_count": 20,
   "metadata": {
    "execution": {
     "iopub.execute_input": "2020-10-12T09:09:41.895416Z",
     "iopub.status.busy": "2020-10-12T09:09:41.894555Z",
     "iopub.status.idle": "2020-10-12T09:09:42.000607Z",
     "shell.execute_reply": "2020-10-12T09:09:42.001097Z"
    },
    "papermill": {
     "duration": 0.137003,
     "end_time": "2020-10-12T09:09:42.001253",
     "exception": false,
     "start_time": "2020-10-12T09:09:41.864250",
     "status": "completed"
    },
    "tags": []
   },
   "outputs": [
    {
     "name": "stdout",
     "output_type": "stream",
     "text": [
      "157809.3256210978\n"
     ]
    }
   ],
   "source": [
    "from sklearn.tree import DecisionTreeRegressor\n",
    "tree = DecisionTreeRegressor(max_leaf_nodes = 700, random_state = 0)\n",
    "tree.fit(X_train,y_train)\n",
    "tree_y_pred = tree.predict(X_valid)\n",
    "tree_y_pred\n",
    "print(mean_absolute_error(y_valid,tree_y_pred))"
   ]
  },
  {
   "cell_type": "code",
   "execution_count": 21,
   "metadata": {
    "execution": {
     "iopub.execute_input": "2020-10-12T09:09:42.056962Z",
     "iopub.status.busy": "2020-10-12T09:09:42.056302Z",
     "iopub.status.idle": "2020-10-12T09:09:42.636429Z",
     "shell.execute_reply": "2020-10-12T09:09:42.636973Z"
    },
    "papermill": {
     "duration": 0.611227,
     "end_time": "2020-10-12T09:09:42.637121",
     "exception": false,
     "start_time": "2020-10-12T09:09:42.025894",
     "status": "completed"
    },
    "tags": []
   },
   "outputs": [
    {
     "name": "stdout",
     "output_type": "stream",
     "text": [
      "124937.86532712038\n"
     ]
    }
   ],
   "source": [
    "from sklearn.ensemble import RandomForestRegressor\n",
    "forest = RandomForestRegressor(random_state=1)\n",
    "forest.fit(X_train, y_train)\n",
    "forest_y = forest.predict(X_valid)\n",
    "print(mean_absolute_error(y_valid, forest_y))"
   ]
  }
 ],
 "metadata": {
  "kernelspec": {
   "display_name": "Python 3.10.5 64-bit",
   "language": "python",
   "name": "python3"
  },
  "language_info": {
   "codemirror_mode": {
    "name": "ipython",
    "version": 3
   },
   "file_extension": ".py",
   "mimetype": "text/x-python",
   "name": "python",
   "nbconvert_exporter": "python",
   "pygments_lexer": "ipython3",
   "version": "3.10.5"
  },
  "papermill": {
   "duration": 9.184381,
   "end_time": "2020-10-12T09:09:42.873391",
   "environment_variables": {},
   "exception": null,
   "input_path": "__notebook__.ipynb",
   "output_path": "__notebook__.ipynb",
   "parameters": {},
   "start_time": "2020-10-12T09:09:33.689010",
   "version": "2.1.0"
  },
  "vscode": {
   "interpreter": {
    "hash": "fbc768028c3e6ead51d9a200ddcb2ec858ae62844dcd1994729a8279be9b48f2"
   }
  }
 },
 "nbformat": 4,
 "nbformat_minor": 4
}
